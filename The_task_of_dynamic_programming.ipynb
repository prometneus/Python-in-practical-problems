{
  "nbformat": 4,
  "nbformat_minor": 0,
  "metadata": {
    "colab": {
      "name": "The task of dynamic programming",
      "provenance": [],
      "collapsed_sections": []
    },
    "kernelspec": {
      "name": "python3",
      "display_name": "Python 3"
    },
    "language_info": {
      "name": "python"
    }
  },
  "cells": [
    {
      "cell_type": "code",
      "metadata": {
        "id": "FTudprsmsmlC"
      },
      "source": [
        "import numpy as np\n",
        "import pandas as pd"
      ],
      "execution_count": 1,
      "outputs": []
    },
    {
      "cell_type": "code",
      "metadata": {
        "colab": {
          "base_uri": "https://localhost:8080/",
          "height": 295
        },
        "id": "6srLjd7ZtBkv",
        "outputId": "31c417fb-b254-4502-e48a-1465a259c4f7"
      },
      "source": [
        "enterprises_number = 4 # Creating all variables and provide a table\n",
        "data = np.array([[0, 10, 20, 30, 38, 43, 49, 52], [0, 13, 25, 37, 47, 55, 61, 66],\n",
        "                  [0, 6, 13, 20, 27, 33, 38, 41], [0, 24, 36, 42, 46, 48, 48, 49]]).T\n",
        "table = pd.DataFrame(data, index=['0', '100', '200', '300', '400', '500', '600', '700'],\n",
        "                     columns=['I','II', 'III', 'IV'])\n",
        "table"
      ],
      "execution_count": 2,
      "outputs": [
        {
          "output_type": "execute_result",
          "data": {
            "text/html": [
              "<div>\n",
              "<style scoped>\n",
              "    .dataframe tbody tr th:only-of-type {\n",
              "        vertical-align: middle;\n",
              "    }\n",
              "\n",
              "    .dataframe tbody tr th {\n",
              "        vertical-align: top;\n",
              "    }\n",
              "\n",
              "    .dataframe thead th {\n",
              "        text-align: right;\n",
              "    }\n",
              "</style>\n",
              "<table border=\"1\" class=\"dataframe\">\n",
              "  <thead>\n",
              "    <tr style=\"text-align: right;\">\n",
              "      <th></th>\n",
              "      <th>I</th>\n",
              "      <th>II</th>\n",
              "      <th>III</th>\n",
              "      <th>IV</th>\n",
              "    </tr>\n",
              "  </thead>\n",
              "  <tbody>\n",
              "    <tr>\n",
              "      <th>0</th>\n",
              "      <td>0</td>\n",
              "      <td>0</td>\n",
              "      <td>0</td>\n",
              "      <td>0</td>\n",
              "    </tr>\n",
              "    <tr>\n",
              "      <th>100</th>\n",
              "      <td>10</td>\n",
              "      <td>13</td>\n",
              "      <td>6</td>\n",
              "      <td>24</td>\n",
              "    </tr>\n",
              "    <tr>\n",
              "      <th>200</th>\n",
              "      <td>20</td>\n",
              "      <td>25</td>\n",
              "      <td>13</td>\n",
              "      <td>36</td>\n",
              "    </tr>\n",
              "    <tr>\n",
              "      <th>300</th>\n",
              "      <td>30</td>\n",
              "      <td>37</td>\n",
              "      <td>20</td>\n",
              "      <td>42</td>\n",
              "    </tr>\n",
              "    <tr>\n",
              "      <th>400</th>\n",
              "      <td>38</td>\n",
              "      <td>47</td>\n",
              "      <td>27</td>\n",
              "      <td>46</td>\n",
              "    </tr>\n",
              "    <tr>\n",
              "      <th>500</th>\n",
              "      <td>43</td>\n",
              "      <td>55</td>\n",
              "      <td>33</td>\n",
              "      <td>48</td>\n",
              "    </tr>\n",
              "    <tr>\n",
              "      <th>600</th>\n",
              "      <td>49</td>\n",
              "      <td>61</td>\n",
              "      <td>38</td>\n",
              "      <td>48</td>\n",
              "    </tr>\n",
              "    <tr>\n",
              "      <th>700</th>\n",
              "      <td>52</td>\n",
              "      <td>66</td>\n",
              "      <td>41</td>\n",
              "      <td>49</td>\n",
              "    </tr>\n",
              "  </tbody>\n",
              "</table>\n",
              "</div>"
            ],
            "text/plain": [
              "      I  II  III  IV\n",
              "0     0   0    0   0\n",
              "100  10  13    6  24\n",
              "200  20  25   13  36\n",
              "300  30  37   20  42\n",
              "400  38  47   27  46\n",
              "500  43  55   33  48\n",
              "600  49  61   38  48\n",
              "700  52  66   41  49"
            ]
          },
          "metadata": {},
          "execution_count": 2
        }
      ]
    },
    {
      "cell_type": "code",
      "metadata": {
        "id": "rMJk5dnXD5CC"
      },
      "source": [
        "def most_profitable(max_row, data_col, inv_col): # An alorythm that finds maximum possible profit from a given data\n",
        "  sums, history = [], []\n",
        "  for row in range(max_row + 1):\n",
        "    sums.append(investment_table[max_row - row][inv_col] + data[row][data_col]) # Collecting all the sums in order to return max of them\n",
        "    history.append((investment_table[max_row - row][inv_col] + data[row][data_col], # Collecting tuples of making exactly these sums\n",
        "                    (investment_table[max_row - row][inv_col], data[row][data_col])))\n",
        "  return max(sums), history"
      ],
      "execution_count": 3,
      "outputs": []
    },
    {
      "cell_type": "code",
      "metadata": {
        "id": "zL_1qDKJ4n-0"
      },
      "source": [
        "def history_restoration(history_table): # A function that restores history by processing returned tuples of most_profitable function\n",
        "  all_us = []\n",
        "  history_table = history_table[::-1] # Reverse a history\n",
        "  for var in range(2):\n",
        "    u = []\n",
        "    prev_elem = 0 \n",
        "    u.append(history_table[var][1][1])\n",
        "    prev_elem = history_table[var][1][0] # Saving previous element\n",
        "    for j in [10, 20]: # A cycle to find the profit that enterprises bring\n",
        "      i = 0\n",
        "      for elem in history_table[j:j+10]:\n",
        "        if elem[0] == prev_elem:\n",
        "          u.append(history_table[j+i][1][1])\n",
        "          prev_elem = history_table[j+i][1][0]\n",
        "        i+=1\n",
        "    u.append(prev_elem) # Saving the last element\n",
        "    all_us.append(u) # Creating a full vector of profit\n",
        "  return all_us"
      ],
      "execution_count": 4,
      "outputs": []
    },
    {
      "cell_type": "code",
      "metadata": {
        "id": "TsV6BPtbMWeM"
      },
      "source": [
        "def money_invested(profit): # This function returns indexes of enterprises that provide profit array\n",
        "  for j in range(enterprises_number):\n",
        "    for index in range(len(table.index)):\n",
        "      if data[index][j] == profit[j]:\n",
        "        print(f'Invested {index*100} thousands in {j+1}-th enterprise')"
      ],
      "execution_count": 5,
      "outputs": []
    },
    {
      "cell_type": "code",
      "metadata": {
        "colab": {
          "base_uri": "https://localhost:8080/",
          "height": 313
        },
        "id": "JLokxsO7RUCZ",
        "outputId": "1ef3e91e-18d2-4ca6-ecd2-1fd7cad7c804"
      },
      "source": [
        "investment_table = np.zeros((8,4), dtype = np.int32)\n",
        "investment_table[:,0] = table['IV']\n",
        "history_table, history = [], []\n",
        "for column in range(1, enterprises_number): # A cycle to fill the investing table columns\n",
        "  for line in range(len(table.index)): # A cycle to fill the investing table rows\n",
        "    investment_table[line][column], history = most_profitable(max_row=line, data_col=3-column, inv_col=column-1)\n",
        "    for elem in history:\n",
        "      if elem[0] == investment_table[line][column]:\n",
        "        history_table.append(elem)\n",
        "print('Final Investing Table')\n",
        "profit = history_restoration(history_table=history_table) \n",
        "pd.DataFrame(investment_table, index=['0', '100', '200', '300', '400', '500', '600', '700'], # Print final investing table.\n",
        "                     columns=['IV','IV + III', 'IV + III + II', 'IV + III + II + I'])"
      ],
      "execution_count": 6,
      "outputs": [
        {
          "output_type": "stream",
          "name": "stdout",
          "text": [
            "Final Investing Table\n"
          ]
        },
        {
          "output_type": "execute_result",
          "data": {
            "text/html": [
              "<div>\n",
              "<style scoped>\n",
              "    .dataframe tbody tr th:only-of-type {\n",
              "        vertical-align: middle;\n",
              "    }\n",
              "\n",
              "    .dataframe tbody tr th {\n",
              "        vertical-align: top;\n",
              "    }\n",
              "\n",
              "    .dataframe thead th {\n",
              "        text-align: right;\n",
              "    }\n",
              "</style>\n",
              "<table border=\"1\" class=\"dataframe\">\n",
              "  <thead>\n",
              "    <tr style=\"text-align: right;\">\n",
              "      <th></th>\n",
              "      <th>IV</th>\n",
              "      <th>IV + III</th>\n",
              "      <th>IV + III + II</th>\n",
              "      <th>IV + III + II + I</th>\n",
              "    </tr>\n",
              "  </thead>\n",
              "  <tbody>\n",
              "    <tr>\n",
              "      <th>0</th>\n",
              "      <td>0</td>\n",
              "      <td>0</td>\n",
              "      <td>0</td>\n",
              "      <td>0</td>\n",
              "    </tr>\n",
              "    <tr>\n",
              "      <th>100</th>\n",
              "      <td>24</td>\n",
              "      <td>24</td>\n",
              "      <td>24</td>\n",
              "      <td>24</td>\n",
              "    </tr>\n",
              "    <tr>\n",
              "      <th>200</th>\n",
              "      <td>36</td>\n",
              "      <td>36</td>\n",
              "      <td>37</td>\n",
              "      <td>37</td>\n",
              "    </tr>\n",
              "    <tr>\n",
              "      <th>300</th>\n",
              "      <td>42</td>\n",
              "      <td>42</td>\n",
              "      <td>49</td>\n",
              "      <td>49</td>\n",
              "    </tr>\n",
              "    <tr>\n",
              "      <th>400</th>\n",
              "      <td>46</td>\n",
              "      <td>49</td>\n",
              "      <td>61</td>\n",
              "      <td>61</td>\n",
              "    </tr>\n",
              "    <tr>\n",
              "      <th>500</th>\n",
              "      <td>48</td>\n",
              "      <td>56</td>\n",
              "      <td>73</td>\n",
              "      <td>73</td>\n",
              "    </tr>\n",
              "    <tr>\n",
              "      <th>600</th>\n",
              "      <td>48</td>\n",
              "      <td>63</td>\n",
              "      <td>83</td>\n",
              "      <td>83</td>\n",
              "    </tr>\n",
              "    <tr>\n",
              "      <th>700</th>\n",
              "      <td>49</td>\n",
              "      <td>69</td>\n",
              "      <td>91</td>\n",
              "      <td>93</td>\n",
              "    </tr>\n",
              "  </tbody>\n",
              "</table>\n",
              "</div>"
            ],
            "text/plain": [
              "     IV  IV + III  IV + III + II  IV + III + II + I\n",
              "0     0         0              0                  0\n",
              "100  24        24             24                 24\n",
              "200  36        36             37                 37\n",
              "300  42        42             49                 49\n",
              "400  46        49             61                 61\n",
              "500  48        56             73                 73\n",
              "600  48        63             83                 83\n",
              "700  49        69             91                 93"
            ]
          },
          "metadata": {},
          "execution_count": 6
        }
      ]
    },
    {
      "cell_type": "code",
      "metadata": {
        "colab": {
          "base_uri": "https://localhost:8080/"
        },
        "id": "Ucgz49ceCeqa",
        "outputId": "adfadd45-460f-4998-c7f4-35101c07252a"
      },
      "source": [
        "print(f'Final annual profit growth by enterprises: {profit}\\n')\n",
        "for prof in profit:\n",
        "  money_invested(profit=prof)\n",
        "  print('\\n')"
      ],
      "execution_count": 7,
      "outputs": [
        {
          "output_type": "stream",
          "name": "stdout",
          "text": [
            "Final annual profit growth by enterprises: [[20, 37, 0, 36], [10, 47, 0, 36]]\n",
            "\n",
            "Invested 200 thousands in 1-th enterprise\n",
            "Invested 300 thousands in 2-th enterprise\n",
            "Invested 0 thousands in 3-th enterprise\n",
            "Invested 200 thousands in 4-th enterprise\n",
            "\n",
            "\n",
            "Invested 100 thousands in 1-th enterprise\n",
            "Invested 400 thousands in 2-th enterprise\n",
            "Invested 0 thousands in 3-th enterprise\n",
            "Invested 200 thousands in 4-th enterprise\n",
            "\n",
            "\n"
          ]
        }
      ]
    }
  ]
}